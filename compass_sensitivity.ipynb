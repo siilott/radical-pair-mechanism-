{
 "cells": [
  {
   "cell_type": "code",
   "execution_count": 1,
   "id": "5469b27d",
   "metadata": {},
   "outputs": [],
   "source": [
    "import math\n",
    "import functools\n",
    "import numpy as np\n",
    "import scipy as sci\n",
    "import matplotlib.pyplot as plt\n",
    "import qutip as qt\n",
    "import time"
   ]
  },
  {
   "cell_type": "code",
   "execution_count": 2,
   "id": "2099e32c",
   "metadata": {},
   "outputs": [],
   "source": [
    "# This dictionary maps string keys ('x', 'y', 'z', 'p', 'm', 'i') to functions that generate spin operators for a given dimension dim.\n",
    "opstr2fun = {'x': lambda dim: qt.spin_Jx((dim-1)/2),\n",
    "             'y': lambda dim: qt.spin_Jy((dim-1)/2),\n",
    "             'z': lambda dim: qt.spin_Jz((dim-1)/2),\n",
    "             'p': lambda dim: qt.spin_Jp((dim-1)/2),\n",
    "             'm': lambda dim: qt.spin_Jm((dim-1)/2),\n",
    "             'i': qt.identity}\n",
    "# Initializes ops as a list of identity matrices for each dimension in dims. Iterates over specs to replace the identity matrix at the specified index with the corresponding spin operator. Returns the tensor product of the operators in ops using qt.tensor.\n",
    "def mkSpinOp(dims, specs):\n",
    "    ops = [qt.identity(d) for d in dims]\n",
    "    for ind, opstr in specs:\n",
    "        ops[ind] = ops[ind] * opstr2fun[opstr](dims[ind])\n",
    "    return qt.tensor(ops)\n",
    "# Constructs a Hamiltonian for a single spin system with interactions along the x, y, and z axes.\n",
    "def mkH1(dims, ind, parvec):\n",
    "    axes = ['x', 'y', 'z']\n",
    "    # Creates a list of spin operators weighted by the corresponding parameters in parvec (ignores zero parameters). Uses functools.reduce to sum these weighted spin operators.\n",
    "    return functools.reduce(lambda a, b: a + b, \n",
    "               [v * mkSpinOp(dims, [(ind,ax)]) for v, ax in zip(parvec, axes) if v!=0])\n",
    "# Constructs a Hamiltonian for the interaction between two spin systems with interaction terms along all combinations of x, y, and z axes.\n",
    "def mkH12(dims, ind1, ind2, parmat):\n",
    "    axes = ['x', 'y', 'z']\n",
    "    ops = []\n",
    "    # Iterates over all combinations of the x, y, and z axes for the two spins. For each non-zero element in parmat, adds the corresponding spin-spin interaction term to the empty list ops.\n",
    "    for i in range(3):\n",
    "        for j in range(3):\n",
    "            if parmat[i,j] != 0:\n",
    "                ops.append(parmat[i,j] * mkSpinOp(dims, [(ind1,axes[i]), (ind2,axes[j])]))\n",
    "    return functools.reduce(lambda a, b: a + b, ops) # Uses functools.reduce to sum these interaction terms."
   ]
  },
  {
   "cell_type": "code",
   "execution_count": 3,
   "id": "0ce0680b",
   "metadata": {},
   "outputs": [],
   "source": [
    "N5_C =  2*np.pi* np.array([[-0.36082693, -0.0702137 , -1.41518116],\n",
    "      [-0.0702137 , -0.60153649,  0.32312139],\n",
    "      [-1.41518116,  0.32312139, 50.80213093]]) # in MHz\n",
    "\t  \n",
    "N1_C = 2*np.pi*np.array([[  2.13814981,   3.19255832,  -2.48895215],\n",
    "      [  3.19255832,  15.45032887, -12.44778343],\n",
    "      [ -2.48895215, -12.44778343,  12.49532827]]) # in MHz\n",
    "\n",
    "N5_D =  2*np.pi*np.array([[-2.94412424e-01, -5.68059200e-02, -1.02860888e+00],\n",
    "      [-5.68059200e-02, -5.40578469e-01, -2.67686240e-02],\n",
    "      [-1.02860888e+00, -2.67686240e-02,  5.05815320e+01]]) # in MHz\n",
    "\t  \n",
    "N1_D = 2*np.pi* np.array([[ 0.98491908,  3.28010265, -0.53784491],\n",
    "      [ 3.28010265, 25.88547678, -1.6335986 ],\n",
    "      [-0.53784491, -1.6335986 ,  1.41368001]]) # in MHz\n",
    "\n",
    "\n",
    "ErC_Dee =  np.array([[ 26.47042689, -55.90357828,  50.1679204 ],\n",
    "                            [-55.90357828, -20.86385225,  76.13493805],\n",
    "                             [ 50.1679204,  76.13493805,  -5.60657464]]) # in Mrad/s\n",
    "\n",
    "\n",
    "\n",
    "ErD_Dee = np.array([[ 11.08087889, -34.6687169,   12.14623706],\n",
    "                            [-34.6687169,  -33.09039672,  22.36229081],\n",
    "                            [ 12.14623706,  22.36229081,  22.00951783]]) #  in Mrad/s\n"
   ]
  },
  {
   "cell_type": "code",
   "execution_count": 4,
   "id": "bce76972",
   "metadata": {},
   "outputs": [],
   "source": [
    "b0 = 1.4 * 2*math.pi # Zeeman field strength in radians per microsecond\n",
    "\n",
    "krA = 1 # Rate constant 1/us\n",
    "krB = 0.1\n",
    "kf = 1\n",
    "kAB = 1e4\n",
    "kBA = 1e3\n",
    "\n",
    "tmax = 8. / krA # Maximum time us \n",
    "tlist = np.linspace(0, tmax, math.ceil(1000*tmax)) # Time points for simulation\n",
    "\n",
    "theta = np.linspace(0, np.pi, 15)\n",
    "\n",
    "xyz = []\n",
    "\n",
    "for theta_ in theta:\n",
    "    x = np.sin(theta_)\n",
    "    y = 0\n",
    "    z = np.cos(theta_)\n",
    "    xyz.append([x, y, z])       \n",
    "\n",
    "oris = np.asarray(xyz)\n",
    "\n",
    "# Initialize arrays for latitude and longitude\n",
    "num_points = len(oris)\n",
    "lat = np.zeros(num_points)\n",
    "lon = np.zeros(num_points)\n",
    "\n",
    "# Convert Cartesian coordinates to latitude and longitude\n",
    "for i in range(num_points):\n",
    "    x, y, z = oris[i]\n",
    "    lat[i] = np.arcsin(z) * (180/np.pi)\n",
    "    lon[i] = np.arctan2(y, x) * (180/np.pi)\n",
    "\n",
    "dims = [2, 2, 3, 3, 3] # Dimensions of the system components (2 qubits, 1 spin-1 nucleus)\n",
    "dim = np.prod(dims) # Total dimension of the composite system\n",
    "\n",
    "H_C_list = []\n",
    "H_D_list = []\n",
    "\n",
    "for orientation in oris:\n",
    "    B0 = b0 * orientation  # Magnetic field vector along orientation\n",
    "\n",
    "    # Compute Hamiltonians for each orientation\n",
    "    Hzee = mkH1(dims, 0, B0) + mkH1(dims, 1, B0)  # Zeeman Hamiltonian for two spins\n",
    "    Hhfc_C = mkH12(dims, 0, 2, N5_C) + mkH12(dims, 1, 3, N1_C)\n",
    "    Hhfc_D = mkH12(dims, 0, 2, N5_D) + mkH12(dims, 1, 4, N1_D)\n",
    "    Hdee_C = mkH12(dims, 0, 1, ErC_Dee)\n",
    "    Hdee_D = mkH12(dims, 0, 1, ErD_Dee)\n",
    "    H0_C = Hzee + Hhfc_C + Hdee_C  # Total Hamiltonian for component C\n",
    "    H0_D = Hzee + Hhfc_D + Hdee_D  # Total Hamiltonian for component D\n",
    "    \n",
    "    # Append Hamiltonians to the list\n",
    "    H_C_list.append(H0_C.data)\n",
    "    H_D_list.append(H0_D.data)\n",
    "\n",
    "# Now H_C_list and H_D_list contain Hamiltonians for each orientation\n",
    "\n",
    "Ps = 1/4 * mkSpinOp(dims,[]) - mkH12(dims, 0, 1, np.identity(3)) # Singlet projection operator\n",
    "\n",
    "\n",
    "rho0_C = (Ps / Ps.tr()).full().flatten()# Initial density matrix, normalized projection operator for the singlet state.\n",
    "rho0_D = np.zeros_like(rho0_C)\n",
    "Ps = Ps.data\n",
    "\n",
    "# Combine the initial states into one vector\n",
    "initial_state = np.concatenate((rho0_C, rho0_D)).flatten()"
   ]
  },
  {
   "cell_type": "code",
   "execution_count": 5,
   "id": "bba1ea99",
   "metadata": {},
   "outputs": [],
   "source": [
    "from scipy.integrate import ode"
   ]
  },
  {
   "cell_type": "code",
   "execution_count": 6,
   "id": "1ef894c4",
   "metadata": {},
   "outputs": [],
   "source": [
    "def mesolve(t, combined_rho, P_s, HA, HB, dimA, dimB):\n",
    "    # Reshape rho back to a matrix\n",
    "    lenA = dimA * dimA\n",
    "    lenB = dimB * dimB\n",
    "    rhoA = combined_rho[:lenA].reshape((dimA, dimA))\n",
    "    rhoB = combined_rho[lenB:].reshape((dimB, dimB))\n",
    "    \n",
    "    # Compute the derivative of rho\n",
    "    # drhoA_dt = -1j * (HA @ rhoA - rhoA @ HA) - (P_s @ rhoA + rhoA @ P_s)/2 - 2*rhoA + rhoB\n",
    "    # drhoB_dt = -1j * (HB @ rhoB - rhoB @ HB) - (P_s @ rhoB + rhoB @ P_s)/2 - 2*rhoB + rhoA\n",
    "    \n",
    "    drhoA_dt = -1j * (HA @ rhoA - rhoA @ HA) - krA*(P_s @ rhoA + rhoA @ P_s)/2 - (kAB+kf)*rhoA + kBA*rhoB\n",
    "    drhoB_dt = -1j * (HB @ rhoB - rhoB @ HB) - krB*(P_s @ rhoB + rhoB @ P_s)/2 - (kBA+kf)*rhoB + kBA*rhoA\n",
    "    \n",
    "    # Flatten the derivative to a vector\n",
    "    return np.concatenate((drhoA_dt.flatten(), drhoB_dt.flatten()))"
   ]
  },
  {
   "cell_type": "code",
   "execution_count": 7,
   "id": "d8e1ca10",
   "metadata": {},
   "outputs": [
    {
     "name": "stdout",
     "output_type": "stream",
     "text": [
      "158.08460521697998 sec\n",
      "180.30656099319458 sec\n",
      "187.94393110275269 sec\n",
      "189.82114911079407 sec\n",
      "185.05855917930603 sec\n",
      "187.08716893196106 sec\n",
      "189.30414175987244 sec\n",
      "189.16467785835266 sec\n",
      "182.99860095977783 sec\n",
      "186.68971705436707 sec\n",
      "185.82693099975586 sec\n",
      "192.30226612091064 sec\n",
      "185.238618850708 sec\n",
      "186.57221508026123 sec\n",
      "194.74956607818604 sec\n"
     ]
    }
   ],
   "source": [
    "yr_c_list = []  # List to store traces for component C\n",
    "yr_d_list = []  # List to store traces for component D\n",
    "for H_C, H_D in zip(H_C_list, H_D_list):\n",
    "    # Create the solver instance\n",
    "    solver = ode(mesolve).set_integrator('zvode', atol=1e-12, rtol=1e-10, method='adams', order=12)\n",
    "    solver.set_initial_value(initial_state, 0).set_f_params(Ps, H_C, H_D, dim, dim)\n",
    "\n",
    "    t = [(0., 1., 0.)]\n",
    "    dt = 0.001\n",
    "\n",
    "    start = time.time()\n",
    "    while solver.successful() and solver.t < tmax:\n",
    "        rho = solver.integrate(solver.t + dt)\n",
    "        rho_c = rho[:dim**2].reshape((dim, dim))\n",
    "        rho_d = rho[dim**2:].reshape((dim, dim))\n",
    "        t.append((solver.t, np.trace(Ps @ rho_c),np.trace(Ps @ rho_d)))\n",
    "    stop = time.time()\n",
    "    print(\"{} sec\".format(stop - start))\n",
    "\n",
    "    # Convert lists to arrays\n",
    "    tlist = np.array([x for x, y, z in t])\n",
    "    ps_c = np.array([np.real(y) for x,y,z in t])\n",
    "    ps_d= np.array([np.real(z) for x,y,z in t])\n",
    "    ps = np.concatenate((ps_c, ps_d))\n",
    "    \n",
    "    # Compute yields\n",
    "    yr_c = kr * sci.integrate.simps(ps_c * np.exp(-kr * tlist), tlist)\n",
    "    yr_d = kr * sci.integrate.simps(ps_d * np.exp(-kr * tlist), tlist)\n",
    "    yr_c_list.append(yr_c)\n",
    "    yr_d_list.append(yr_d)"
   ]
  },
  {
   "cell_type": "code",
   "execution_count": 19,
   "id": "a2b88f6d",
   "metadata": {},
   "outputs": [
    {
     "data": {
      "text/plain": [
       "Text(0.5, 1.0, 'Yield vs. orientation')"
      ]
     },
     "execution_count": 19,
     "metadata": {},
     "output_type": "execute_result"
    },
    {
     "data": {
      "image/png": "[encoded data removed]",
      "text/plain": [
       "<Figure size 432x288 with 1 Axes>"
      ]
     },
     "metadata": {
      "needs_background": "light"
     },
     "output_type": "display_data"
    }
   ],
   "source": [
    "plotlat = []\n",
    "plotyc = []\n",
    "plotyd = []\n",
    "for i in range(0,15):\n",
    "    plotlat.append(lat[i])\n",
    "    plotyc.append(yr_c_list[i])\n",
    "    plotyd.append(yr_d_list[i])\n",
    "    \n",
    "# Plot the graph\n",
    "plt.plot(plotlat, plotyc)\n",
    "plt.xlabel('theta / degrees')\n",
    "plt.ylabel('Singlet Yield')\n",
    "plt.title('Yield vs. orientation')"
   ]
  },
  {
   "cell_type": "code",
   "execution_count": 12,
   "id": "e7bfdf7e",
   "metadata": {},
   "outputs": [
    {
     "name": "stdout",
     "output_type": "stream",
     "text": [
      "0.13063447854703308\n",
      "0.13046196935283025\n",
      "0.13053954342170637\n",
      "compass sensitivity =  0.00017250919420283561\n"
     ]
    }
   ],
   "source": [
    "max_yield = max(plotyc)\n",
    "min_yield = min(plotyc)\n",
    "avg_yield = sum(plotyc)/len(plotyc)\n",
    "compass_sensitivity = max_yield - min_yield \n",
    "print(max_yield)\n",
    "print(min_yield)\n",
    "print(avg_yield)\n",
    "print('compass sensitivity = ', compass_sensitivity)"
   ]
  }
 ],
 "metadata": {
  "kernelspec": {
   "display_name": "Python 3 (ipykernel)",
   "language": "python",
   "name": "python3"
  },
  "language_info": {
   "codemirror_mode": {
    "name": "ipython",
    "version": 3
   },
   "file_extension": ".py",
   "mimetype": "text/x-python",
   "name": "python",
   "nbconvert_exporter": "python",
   "pygments_lexer": "ipython3",
   "version": "3.9.12"
  }
 },
 "nbformat": 4,
 "nbformat_minor": 5
}
