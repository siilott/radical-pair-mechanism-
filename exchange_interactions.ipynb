{
 "cells": [
  {
   "cell_type": "code",
   "execution_count": 2,
   "metadata": {},
   "outputs": [],
   "source": [
    "import math\n",
    "import functools\n",
    "import numpy as np\n",
    "import scipy as sci\n",
    "import matplotlib.pyplot as plt\n",
    "import qutip as qt\n",
    "import time"
   ]
  },
  {
   "cell_type": "code",
   "execution_count": 3,
   "metadata": {},
   "outputs": [],
   "source": [
    "# This dictionary maps string keys ('x', 'y', 'z', 'p', 'm', 'i') to functions that generate spin operators for a given dimension dim.\n",
    "opstr2fun = {'x': lambda dim: qt.spin_Jx((dim-1)/2),\n",
    "             'y': lambda dim: qt.spin_Jy((dim-1)/2),\n",
    "             'z': lambda dim: qt.spin_Jz((dim-1)/2),\n",
    "             'p': lambda dim: qt.spin_Jp((dim-1)/2),\n",
    "             'm': lambda dim: qt.spin_Jm((dim-1)/2),\n",
    "             'i': qt.identity}\n",
    "# Initializes ops as a list of identity matrices for each dimension in dims. Iterates over specs to replace the identity matrix at the specified index with the corresponding spin operator. Returns the tensor product of the operators in ops using qt.tensor.\n",
    "def mkSpinOp(dims, specs):\n",
    "    ops = [qt.identity(d) for d in dims]\n",
    "    for ind, opstr in specs:\n",
    "        ops[ind] = ops[ind] * opstr2fun[opstr](dims[ind])\n",
    "    return qt.tensor(ops)\n",
    "# Constructs a Hamiltonian for a single spin system with interactions along the x, y, and z axes.\n",
    "def mkH1(dims, ind, parvec):\n",
    "    axes = ['x', 'y', 'z']\n",
    "    # Creates a list of spin operators weighted by the corresponding parameters in parvec (ignores zero parameters). Uses functools.reduce to sum these weighted spin operators.\n",
    "    return functools.reduce(lambda a, b: a + b, \n",
    "               [v * mkSpinOp(dims, [(ind,ax)]) for v, ax in zip(parvec, axes) if v!=0])\n",
    "# Constructs a Hamiltonian for the interaction between two spin systems with interaction terms along all combinations of x, y, and z axes.\n",
    "def mkH12(dims, ind1, ind2, parmat):\n",
    "    axes = ['x', 'y', 'z']\n",
    "    ops = []\n",
    "    # Iterates over all combinations of the x, y, and z axes for the two spins. For each non-zero element in parmat, adds the corresponding spin-spin interaction term to the empty list ops.\n",
    "    for i in range(3):\n",
    "        for j in range(3):\n",
    "            if parmat[i,j] != 0:\n",
    "                ops.append(parmat[i,j] * mkSpinOp(dims, [(ind1,axes[i]), (ind2,axes[j])]))\n",
    "    return functools.reduce(lambda a, b: a + b, ops) # Uses functools.reduce to sum these interaction terms."
   ]
  },
  {
   "cell_type": "code",
   "execution_count": 4,
   "metadata": {},
   "outputs": [],
   "source": [
    "g = 2.00231930436256 #electron g-factor\n",
    "beta = 9.274009994e-24 #bohr magneton\n",
    "hbar = 6.62607015e-34/(2*np.pi) #hbar\n",
    "\n",
    "N5_C =  2*np.pi* np.array([[-0.36082693, -0.0702137 , -1.41518116],\n",
    "      [-0.0702137 , -0.60153649,  0.32312139],\n",
    "      [-1.41518116,  0.32312139, 50.80213093]]) # in MHz\n",
    "\t  \n",
    "N1_C = 2*np.pi*np.array([[  2.13814981,   3.19255832,  -2.48895215],\n",
    "      [  3.19255832,  15.45032887, -12.44778343],\n",
    "      [ -2.48895215, -12.44778343,  12.49532827]]) # in MHz\n",
    "\n",
    "N5_D =  2*np.pi*np.array([[-2.94412424e-01, -5.68059200e-02, -1.02860888e+00],\n",
    "      [-5.68059200e-02, -5.40578469e-01, -2.67686240e-02],\n",
    "      [-1.02860888e+00, -2.67686240e-02,  5.05815320e+01]]) # in MHz\n",
    "\t  \n",
    "N1_D = 2*np.pi* np.array([[ 0.98491908,  3.28010265, -0.53784491],\n",
    "      [ 3.28010265, 25.88547678, -1.6335986 ],\n",
    "      [-0.53784491, -1.6335986 ,  1.41368001]]) # in MHz\n",
    "\n",
    "\n",
    "ErC_Dee =  np.array([[ 26.47042689, -55.90357828,  50.1679204 ],\n",
    "                            [-55.90357828, -20.86385225,  76.13493805],\n",
    "                             [ 50.1679204,  76.13493805,  -5.60657464]]) # in Mrad/s\n",
    "\n",
    "\n",
    "\n",
    "ErD_Dee = np.array([[ 11.08087889, -34.6687169,   12.14623706],\n",
    "                            [-34.6687169,  -33.09039672,  22.36229081],\n",
    "                            [ 12.14623706,  22.36229081,  22.00951783]]) #  in Mrad/s\n",
    "\n"
   ]
  },
  {
   "cell_type": "code",
   "execution_count": 5,
   "metadata": {},
   "outputs": [],
   "source": [
    "b0 = 1.4 * 2*math.pi # Zeeman field strength in radians per microsecond\n",
    "\n",
    "kr = 1. # Rate constant 1/us\n",
    "tmax = 12. / kr # Maximum time us\n",
    "tlist = np.linspace(0, tmax, math.ceil(1000*tmax)) # Time points for simulation\n",
    "B0 = b0 * np.array([1,0,0]) # Magnetic field vector along x-axis\n",
    "\n",
    "dims = [2, 2, 3, 3, 3] # Dimensions of the system components (2 qubits, 1 spin-1 nucleus)\n",
    "dim = np.prod(dims) # Total dimension of the composite system\n",
    "Hzee = mkH1(dims, 0, B0) + mkH1(dims, 1, B0) # Zeeman Hamiltonian for two spins\n",
    "Hhfc_C = mkH12(dims, 0, 2, N5_C) + mkH12(dims, 1, 3, N1_C)\n",
    "Hhfc_D = mkH12(dims, 0, 2, N5_D) + mkH12(dims, 1, 4, N1_D)\n",
    "Hdee_C = mkH12(dims, 0, 1, ErC_Dee)\n",
    "Hdee_D = mkH12(dims, 0, 1, ErD_Dee)\n",
    "H0_C = Hzee + Hhfc_C + Hdee_C # Total Hamiltonian\n",
    "H0_D = Hzee + Hhfc_D + Hdee_D\n",
    "\n",
    "Ps = 1/4 * mkSpinOp(dims,[]) - mkH12(dims, 0, 1, np.identity(3)) # Singlet projection operator\n",
    "\n",
    "rho0_C = (Ps / Ps.tr()).full().flatten()# Initial density matrix, normalized projection operator for the singlet state.\n",
    "rho0_D = np.zeros_like(rho0_C)\n",
    "H_C = H0_C.data # H: Dense matrix representation of the Hamiltonian H0.\n",
    "H_D = H0_D.data\n",
    "Ps = Ps.data\n",
    "\n",
    "# Combine the initial states into one vector\n",
    "initial_state = np.concatenate((rho0_C, rho0_D)).flatten()"
   ]
  },
  {
   "cell_type": "code",
   "execution_count": 6,
   "metadata": {},
   "outputs": [],
   "source": [
    "from scipy.integrate import ode"
   ]
  },
  {
   "cell_type": "code",
   "execution_count": 7,
   "metadata": {},
   "outputs": [],
   "source": [
    "def mesolve(t, combined_rho, P_s, HA, HB, dimA, dimB):\n",
    "    # Reshape rho back to a matrix\n",
    "    lenA = dimA * dimA\n",
    "    lenB = dimB * dimB\n",
    "    rhoA = combined_rho[:lenA].reshape((dimA, dimA))\n",
    "    rhoB = combined_rho[lenB:].reshape((dimB, dimB))\n",
    "    \n",
    "    # Compute the derivative of rho\n",
    "    drhoA_dt = -1j * (HA @ rhoA - rhoA @ HA) - (P_s @ rhoA + rhoA @ P_s)/2 - 2*rhoA + rhoB\n",
    "    drhoB_dt = -1j * (HB @ rhoB - rhoB @ HB) - (P_s @ rhoB + rhoB @ P_s)/2 - 2*rhoB + rhoA\n",
    "    \n",
    "    # Flatten the derivative to a vector\n",
    "    return np.concatenate((drhoA_dt.flatten(), drhoB_dt.flatten()))"
   ]
  },
  {
   "cell_type": "code",
   "execution_count": 8,
   "metadata": {},
   "outputs": [
    {
     "name": "stdout",
     "output_type": "stream",
     "text": [
      "159.89000415802002 sec\n"
     ]
    },
    {
     "data": {
      "text/plain": [
       "0.029324819570462797"
      ]
     },
     "execution_count": 8,
     "metadata": {},
     "output_type": "execute_result"
    }
   ],
   "source": [
    "# Create the solver instance\n",
    "solver = ode(mesolve).set_integrator('zvode', atol=1e-12, rtol=1e-10, method='adams', order=12)\n",
    "solver.set_initial_value(initial_state, 0).set_f_params( Ps, H_C, H_D, dim, dim)\n",
    "\n",
    "t = [(0.,1.,0.)]\n",
    "dt = 0.001\n",
    "\n",
    "start = time.time()\n",
    "while solver.successful() and solver.t < tmax:\n",
    "    rho = solver.integrate(solver.t + dt)\n",
    "    rho_c = rho[:dim**2].reshape((dim, dim))\n",
    "    rho_d = rho[dim**2:].reshape((dim, dim))\n",
    "    t.append((solver.t, np.trace(Ps @ rho_c),np.trace(Ps @ rho_d)))\n",
    "stop = time.time()\n",
    "\n",
    "print(\"{} sec\".format(stop - start))\n",
    " \n",
    "tlist = np.array([x for x,y,z in t])\n",
    "ps_c = np.array([np.real(y) for x,y,z in t])\n",
    "ps_d= np.array([np.real(z) for x,y,z in t])\n",
    "ps = np.concatenate((ps_c, ps_d))\n",
    "yr_c = kr * sci.integrate.simps(ps_c * np.exp(-kr*tlist), tlist)\n",
    "yr_d = kr * sci.integrate.simps(ps_d * np.exp(-kr*tlist), tlist)\n",
    "yr_c\n",
    "yr_d"
   ]
  },
  {
   "cell_type": "code",
   "execution_count": 10,
   "metadata": {},
   "outputs": [
    {
     "name": "stdout",
     "output_type": "stream",
     "text": [
      "0.13046196935283025 0.029324819570462797\n"
     ]
    },
    {
     "data": {
      "text/plain": [
       "Text(0.5, 1.0, 'Evolution of singlet probability over time')"
      ]
     },
     "execution_count": 10,
     "metadata": {},
     "output_type": "execute_result"
    },
    {
     "data": {
      "image/png": "[encoded data removed]",
      "text/plain": [
       "<Figure size 432x288 with 1 Axes>"
      ]
     },
     "metadata": {
      "needs_background": "light"
     },
     "output_type": "display_data"
    }
   ],
   "source": [
    "print(yr_c, yr_d)\n",
    "plt.plot(tlist[:1000], ps_c[:1000])\n",
    "plt.plot(tlist[:1000], ps_d[:1000])\n",
    "plt.xlabel('time')\n",
    "plt.ylabel('Singlet Probability')\n",
    "plt.title('Evolution of singlet probability over time')\n",
    "\n"
   ]
  }
 ],
 "metadata": {
  "kernelspec": {
   "display_name": "base",
   "language": "python",
   "name": "python3"
  },
  "language_info": {
   "codemirror_mode": {
    "name": "ipython",
    "version": 3
   },
   "file_extension": ".py",
   "mimetype": "text/x-python",
   "name": "python",
   "nbconvert_exporter": "python",
   "pygments_lexer": "ipython3",
   "version": "3.9.12"
  }
 },
 "nbformat": 4,
 "nbformat_minor": 2
}
