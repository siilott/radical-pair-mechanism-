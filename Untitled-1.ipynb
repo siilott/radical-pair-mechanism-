{
 "cells": [
  {
   "cell_type": "code",
   "execution_count": 1,
   "metadata": {},
   "outputs": [],
   "source": [
    "import math\n",
    "import functools\n",
    "import numpy as np\n",
    "import scipy as sci\n",
    "import matplotlib.pyplot as plt\n",
    "import qutip as qt\n",
    "import time"
   ]
  },
  {
   "cell_type": "code",
   "execution_count": 18,
   "metadata": {},
   "outputs": [],
   "source": [
    "# This dictionary maps string keys ('x', 'y', 'z', 'p', 'm', 'i') to functions that generate spin operators for a given dimension dim.\n",
    "opstr2fun = {'x': lambda dim: qt.spin_Jx((dim-1)/2),\n",
    "             'y': lambda dim: qt.spin_Jy((dim-1)/2),\n",
    "             'z': lambda dim: qt.spin_Jz((dim-1)/2),\n",
    "             'p': lambda dim: qt.spin_Jp((dim-1)/2),\n",
    "             'm': lambda dim: qt.spin_Jm((dim-1)/2),\n",
    "             'i': qt.identity}\n",
    "# Initializes ops as a list of identity matrices for each dimension in dims. Iterates over specs to replace the identity matrix at the specified index with the corresponding spin operator. Returns the tensor product of the operators in ops using qt.tensor.\n",
    "def mkSpinOp(dims, specs):\n",
    "    ops = [qt.identity(d) for d in dims]\n",
    "    for ind, opstr in specs:\n",
    "        ops[ind] = ops[ind] * opstr2fun[opstr](dims[ind])\n",
    "    return qt.tensor(ops)\n",
    "# Constructs a Hamiltonian for a single spin system with interactions along the x, y, and z axes.\n",
    "def mkH1(dims, ind, parvec):\n",
    "    axes = ['x', 'y', 'z']\n",
    "    # Creates a list of spin operators weighted by the corresponding parameters in parvec (ignores zero parameters). Uses functools.reduce to sum these weighted spin operators.\n",
    "    return functools.reduce(lambda a, b: a + b, \n",
    "               [v * mkSpinOp(dims, [(ind,ax)]) for v, ax in zip(parvec, axes) if v!=0])\n",
    "# Constructs a Hamiltonian for the interaction between two spin systems with interaction terms along all combinations of x, y, and z axes.\n",
    "def mkH12(dims, ind1, ind2, parmat):\n",
    "    axes = ['x', 'y', 'z']\n",
    "    ops = []\n",
    "    # Iterates over all combinations of the x, y, and z axes for the two spins. For each non-zero element in parmat, adds the corresponding spin-spin interaction term to the empty list ops.\n",
    "    for i in range(3):\n",
    "        for j in range(3):\n",
    "            if parmat[i,j] != 0:\n",
    "                ops.append(parmat[i,j] * mkSpinOp(dims, [(ind1,axes[i]), (ind2,axes[j])]))\n",
    "    return functools.reduce(lambda a, b: a + b, ops) # Uses functools.reduce to sum these interaction terms."
   ]
  },
  {
   "cell_type": "code",
   "execution_count": 30,
   "metadata": {},
   "outputs": [],
   "source": [
    "g = 2.00231930436256 #electron g-factor\n",
    "beta = 9.274009994e-24 #bohr magneton\n",
    "hbar = 6.62607015e-34/(2*np.pi) #hbar\n",
    "\n",
    "ErC_Dee = 2*np.pi* np.array([[ 26.47042689, -55.90357828,  50.1679204 ],\n",
    "                            [-55.90357828, -20.86385225,  76.13493805],\n",
    "                             [ 50.1679204,  76.13493805,  -5.60657464]]) # in Mrad/s\n",
    "\n",
    "ErD_Dee = 2*np.pi* np.array([[ 11.08087889, -34.6687169,   12.14623706],\n",
    "                            [-34.6687169,  -33.09039672,  22.36229081],\n",
    "                            [ 12.14623706,  22.36229081,  22.00951783]]) #  in Mrad/s\n",
    "\n"
   ]
  },
  {
   "cell_type": "code",
   "execution_count": 24,
   "metadata": {},
   "outputs": [],
   "source": [
    "b0 = 1.4 * 2*math.pi # Zeeman field strength in radians per microsecond\n",
    "A1 = np.diag([-2.6, -2.6, 0]) * 2*math.pi # Hyperfine coupling matrix (Mrad/s)\n",
    "A2 = np.diag([-2.6, 0, 49.2]) * 2*math.pi # Hyperfine coupling matrix (Mrad/s)\n",
    "kr = 1. # Rate constant 1/us\n",
    "tmax = 12./ kr # Maximum time us\n",
    "\n",
    "tlist = np.linspace(0, tmax, math.ceil(1000*tmax)) # Time points for simulation\n",
    "B0 = b0 * np.array([1,0,0]) # Magnetic field vector along x-axis\n",
    "\n",
    "dims = [2, 2, 3] # Dimensions of the system components (2 qubits, 1 spin-1 nucleus)\n",
    "dim = np.prod(dims) # Total dimension of the composite system\n",
    "Hzee = mkH1(dims, 0, B0) + mkH1(dims, 1, B0) # Zeeman Hamiltonian for two spins\n",
    "HhfcA = mkH12(dims, 0, 2, A1) # Hyperfine coupling Hamiltonian\n",
    "HhfcB = mkH12(dims, 0, 2, A2) \n",
    "HdeeA = mkH12(dims, 0, 1, ErC_Dee)\n",
    "HdeeB = mkH12(dims, 0, 1, ErD_Dee)\n",
    "HA0= Hzee + HhfcA + HdeeA # Total Hamiltonian for A\n",
    "HB0= Hzee + HhfcB + HdeeB # Total Hamiltonian for B \n",
    "\n",
    "\n",
    "Ps = 1/4 * mkSpinOp(dims,[]) - mkH12(dims, 0, 1, np.identity(3)) # Singlet projection operator\n",
    "\n",
    "rhoA0 = (Ps / Ps.tr()).full().flatten() # Initial density matrix, normalized projection operator for the singlet state.\n",
    "rhoB0 = 0\n",
    "\n",
    "HA= HA0.data.todense() # H: Dense matrix representation of the Hamiltonian H0.\n",
    "HB= HB0.data.todense()\n",
    "Ps = Ps.data.todense()"
   ]
  },
  {
   "cell_type": "code",
   "execution_count": 25,
   "metadata": {},
   "outputs": [],
   "source": [
    "from scipy.integrate import ode"
   ]
  },
  {
   "cell_type": "code",
   "execution_count": 26,
   "metadata": {},
   "outputs": [],
   "source": [
    "def mesolve(t, rhoA, rhoB, HA, HB):\n",
    "    # Reshape rho back to a matrix\n",
    "    dimA = int(np.sqrt(len(rhoA)))\n",
    "    dimB = int(np.sqrt(len(rhoB)))\n",
    "    rhoA = rhoA.reshape((dimA, dimA))\n",
    "    rhoB = rhoB.reshape((dimB, dimB))\n",
    "    \n",
    "    # Compute the derivative of rho\n",
    "    drhoA_dt = -1j * (HA @ rhoA - rhoA @ HA) -  (HA @ rhoA + rhoA @ HA)/2 - rhoA + rhoB\n",
    "    drhoB_dt = -1j * (HB @ rhoB - rhoB @ HB) - (HB @ rhoB + rhoB @ HB)/2 - rhoB + rhoA\n",
    "    \n",
    "    # Flatten the derivative to a vector\n",
    "    return drhoA_dt.flatten(), drhoB_dt.flatten()"
   ]
  },
  {
   "cell_type": "code",
   "execution_count": 32,
   "metadata": {},
   "outputs": [
    {
     "ename": "TypeError",
     "evalue": "set_initial_value() takes from 2 to 3 positional arguments but 4 were given",
     "output_type": "error",
     "traceback": [
      "\u001b[0;31m---------------------------------------------------------------------------\u001b[0m",
      "\u001b[0;31mTypeError\u001b[0m                                 Traceback (most recent call last)",
      "Input \u001b[0;32mIn [32]\u001b[0m, in \u001b[0;36m<cell line: 3>\u001b[0;34m()\u001b[0m\n\u001b[1;32m      1\u001b[0m \u001b[38;5;66;03m#roughly what mesolve uses internally \u001b[39;00m\n\u001b[1;32m      2\u001b[0m solver \u001b[38;5;241m=\u001b[39m ode(mesolve)\u001b[38;5;241m.\u001b[39mset_integrator(\u001b[38;5;124m'\u001b[39m\u001b[38;5;124mzvode\u001b[39m\u001b[38;5;124m'\u001b[39m, atol\u001b[38;5;241m=\u001b[39m\u001b[38;5;241m1e-8\u001b[39m, rtol\u001b[38;5;241m=\u001b[39m\u001b[38;5;241m1e-6\u001b[39m, method\u001b[38;5;241m=\u001b[39m\u001b[38;5;124m'\u001b[39m\u001b[38;5;124madams\u001b[39m\u001b[38;5;124m'\u001b[39m, order\u001b[38;5;241m=\u001b[39m\u001b[38;5;241m12\u001b[39m)\n\u001b[0;32m----> 3\u001b[0m \u001b[43msolver\u001b[49m\u001b[38;5;241;43m.\u001b[39;49m\u001b[43mset_initial_value\u001b[49m\u001b[43m(\u001b[49m\u001b[43mrhoA0\u001b[49m\u001b[43m,\u001b[49m\u001b[43mrhoB0\u001b[49m\u001b[43m,\u001b[49m\u001b[43m \u001b[49m\u001b[38;5;241;43m0\u001b[39;49m\u001b[43m)\u001b[49m\u001b[38;5;241m.\u001b[39mset_f_params(HA,HB)\n\u001b[1;32m      5\u001b[0m t \u001b[38;5;241m=\u001b[39m [(\u001b[38;5;241m0.\u001b[39m,\u001b[38;5;241m1\u001b[39m)]\n\u001b[1;32m      6\u001b[0m dt \u001b[38;5;241m=\u001b[39m \u001b[38;5;241m0.001\u001b[39m\n",
      "\u001b[0;31mTypeError\u001b[0m: set_initial_value() takes from 2 to 3 positional arguments but 4 were given"
     ]
    }
   ],
   "source": [
    "#roughly what mesolve uses internally \n",
    "solver = ode(mesolve).set_integrator('zvode', atol=1e-8, rtol=1e-6, method='adams', order=12)\n",
    "solver.set_initial_value(rhoA0,rhoB0, 0).set_f_params(HA,HB)\n",
    "\n",
    "t = [(0.,1)]\n",
    "dt = 0.001\n",
    "\n",
    "start = time.time()\n",
    "while solver.successful() and solver.t < tmax:\n",
    "    rho = solver.integrate(solver.t + dt)\n",
    "    dim = int(np.sqrt(len(rho)))\n",
    "    rho = rho.reshape((dim, dim))\n",
    "    t.append((solver.t, np.trace(Ps @ rho)))\n",
    "    \n",
    "stop = time.time()\n",
    "\n",
    "print(\"{} sec\".format(stop - start))\n",
    "\n",
    "tlist = np.array([x for x,y in t])\n",
    "ps = np.array([np.real(y) for x,y in t]) \n",
    "yr = kr * sci.integrate.simps(ps * np.exp(-kr*tlist), tlist)\n",
    "print(yr)"
   ]
  },
  {
   "cell_type": "code",
   "execution_count": 31,
   "metadata": {},
   "outputs": [
    {
     "ename": "NameError",
     "evalue": "name 'ps' is not defined",
     "output_type": "error",
     "traceback": [
      "\u001b[0;31m---------------------------------------------------------------------------\u001b[0m",
      "\u001b[0;31mNameError\u001b[0m                                 Traceback (most recent call last)",
      "Input \u001b[0;32mIn [31]\u001b[0m, in \u001b[0;36m<cell line: 1>\u001b[0;34m()\u001b[0m\n\u001b[0;32m----> 1\u001b[0m plt\u001b[38;5;241m.\u001b[39mplot(tlist[:\u001b[38;5;241m1000\u001b[39m], \u001b[43mps\u001b[49m[:\u001b[38;5;241m1000\u001b[39m])\n",
      "\u001b[0;31mNameError\u001b[0m: name 'ps' is not defined"
     ]
    }
   ],
   "source": [
    "plt.plot(tlist[:1000], ps[:1000])"
   ]
  }
 ],
 "metadata": {
  "kernelspec": {
   "display_name": "base",
   "language": "python",
   "name": "python3"
  },
  "language_info": {
   "codemirror_mode": {
    "name": "ipython",
    "version": 3
   },
   "file_extension": ".py",
   "mimetype": "text/x-python",
   "name": "python",
   "nbconvert_exporter": "python",
   "pygments_lexer": "ipython3",
   "version": "3.9.12"
  }
 },
 "nbformat": 4,
 "nbformat_minor": 2
}
